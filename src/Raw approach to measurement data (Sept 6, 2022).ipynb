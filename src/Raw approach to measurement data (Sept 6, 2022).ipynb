{
 "cells": [
  {
   "cell_type": "code",
   "execution_count": 4,
   "id": "d1c9c403",
   "metadata": {},
   "outputs": [],
   "source": [
    "import pandapower as pp\n",
    "import pandapower.networks as ppn\n",
    "import numpy as np\n",
    "import pandas as pd"
   ]
  },
  {
   "cell_type": "code",
   "execution_count": 5,
   "id": "8c3b949c",
   "metadata": {},
   "outputs": [],
   "source": [
    "#if network == 'IEEE-14' then\n",
    "net = ppn.case14()\n",
    "#else if network == 'IEEE-30' then\n",
    "#net = pandapower.networks.case30()\n",
    "#else if network == 'IEEE-57' then\n",
    "#net = pandapower.networks.case57()\n",
    "#else if network == 'IEEE-118' then\n",
    "#net = pandapower.networks.case118()"
   ]
  },
  {
   "cell_type": "code",
   "execution_count": 14,
   "id": "94579c41",
   "metadata": {},
   "outputs": [
    {
     "name": "stderr",
     "output_type": "stream",
     "text": [
      "numba cannot be imported and numba functions are disabled.\n",
      "Probably the execution is slow.\n",
      "Please install numba to gain a massive speedup.\n",
      "(or if you prefer slow execution, set the flag numba=False to avoid this warning!)\n",
      "\n"
     ]
    },
    {
     "ename": "NameError",
     "evalue": "name 'x' is not defined",
     "output_type": "error",
     "traceback": [
      "\u001b[1;31m---------------------------------------------------------------------------\u001b[0m",
      "\u001b[1;31mNameError\u001b[0m                                 Traceback (most recent call last)",
      "Cell \u001b[1;32mIn [14], line 8\u001b[0m\n\u001b[0;32m      6\u001b[0m T \u001b[38;5;241m=\u001b[39m \u001b[38;5;241m100\u001b[39m \u001b[38;5;66;03m# user argument\u001b[39;00m\n\u001b[0;32m      7\u001b[0m \u001b[38;5;66;03m# Dx ~ N(0,Cov_Mat)\u001b[39;00m\n\u001b[1;32m----> 8\u001b[0m mean \u001b[38;5;241m=\u001b[39m np\u001b[38;5;241m.\u001b[39mzeros(\u001b[43mx\u001b[49m\u001b[38;5;241m.\u001b[39mshape)\n\u001b[0;32m      9\u001b[0m cov \u001b[38;5;241m=\u001b[39m np\u001b[38;5;241m.\u001b[39meye(x\u001b[38;5;241m.\u001b[39mshape[\u001b[38;5;241m0\u001b[39m])\n\u001b[0;32m     10\u001b[0m delta_x_mat \u001b[38;5;241m=\u001b[39m np\u001b[38;5;241m.\u001b[39mtranspose(np\u001b[38;5;241m.\u001b[39mrandom\u001b[38;5;241m.\u001b[39mmultivariate_normal(mean, cov, size\u001b[38;5;241m=\u001b[39mT))\n",
      "\u001b[1;31mNameError\u001b[0m: name 'x' is not defined"
     ]
    }
   ],
   "source": [
    "# if user selects data generation strategy 1\n",
    "pp.rundcpp(net)\n",
    "# state vector x_base\n",
    "x_base = net.res_bus.va_degree.to_numpy()\n",
    "# number of discrete time steps\n",
    "T = 100 # user argument\n",
    "# Dx ~ N(0,Cov_Mat)\n",
    "mean = np.zeros(x_base.shape)\n",
    "cov = np.eye(x_base.shape[0])\n",
    "delta_x_mat = np.transpose(np.random.multivariate_normal(mean, cov, size=T))\n",
    "x_base_mat = np.repeat(x_base.reshape((x_base.shape[0],-1)), T, axis=1)\n",
    "x_t = x_base_mat + delta_x_mat"
   ]
  },
  {
   "cell_type": "code",
   "execution_count": 156,
   "id": "e35c98c9",
   "metadata": {},
   "outputs": [],
   "source": [
    "# P_from_node_i_to_node_j\n",
    "# Pij = (1/bij)*(x[i]-x[j])\n",
    "# H[line_id,i] = 1/bij\n",
    "# H[line_id,j] = -1/bij\n",
    "A_real = np.real(net._ppc['internal']['Bbus'].A)\n",
    "H = np.zeros((net.line.shape[0], net.bus.shape[0]))\n",
    "for i in range(0, net.line.shape[0]):\n",
    "    H[i, net.line.from_bus.values[i]] = 1/A_real[net.line.from_bus.values[i],net.line.to_bus.values[i]]\n",
    "    H[i, net.line.to_bus.values[i]] = -1/A_real[net.line.from_bus.values[i],net.line.to_bus.values[i]]"
   ]
  },
  {
   "cell_type": "code",
   "execution_count": 157,
   "id": "0cd880bc",
   "metadata": {},
   "outputs": [
    {
     "data": {
      "text/plain": [
       "(15, 100)"
      ]
     },
     "execution_count": 157,
     "metadata": {},
     "output_type": "execute_result"
    }
   ],
   "source": [
    "#z_t = H @ x_t + noise\n",
    "mean = np.zeros(H.shape[0])\n",
    "cov = np.eye(H.shape[0])/10\n",
    "noise_mat = np.transpose(np.random.multivariate_normal(mean, cov, size=T))\n",
    "z_t_mat = np.matmul(H, x_t_mat) + noise_mat\n",
    "z_t_mat.shape"
   ]
  },
  {
   "cell_type": "code",
   "execution_count": 158,
   "id": "c2c25ce8",
   "metadata": {},
   "outputs": [],
   "source": [
    "# if user selects data generation strategy 2\n",
    "net = pandapower.networks.case14()\n",
    "\n",
    "# TODO: https://towardsdatascience.com/stochastic-processes-simulation-the-ornstein-uhlenbeck-process-e8bff820f3\n",
    "\n",
    "pp.rundcpp(net)\n",
    "x_t = net.res_bus.va_degree.to_numpy()\n",
    "x_t_mat = x_t.reshape((x_t.shape[0],-1))\n",
    "for t in range(1,T):\n",
    "    mean = np.zeros(net.load.p_mw.shape)\n",
    "    cov = np.eye(net.load.p_mw.shape[0])    \n",
    "    delta_load = np.random.multivariate_normal(mean, cov)\n",
    "    net.load.p_mw.add(pd.Series(delta_load)) \n",
    "    pp.rundcpp(net)\n",
    "    x_t = net.res_bus.va_degree.to_numpy().reshape((x_t.shape[0],-1))\n",
    "    x_t_mat = np.hstack((x_t_mat, x_t))"
   ]
  },
  {
   "cell_type": "code",
   "execution_count": 159,
   "id": "f88d139e",
   "metadata": {},
   "outputs": [
    {
     "data": {
      "text/plain": [
       "(15, 100)"
      ]
     },
     "execution_count": 159,
     "metadata": {},
     "output_type": "execute_result"
    }
   ],
   "source": [
    "#z_t = H @ x_t + noise\n",
    "mean = np.zeros(H.shape[0])\n",
    "cov = np.eye(H.shape[0])/10\n",
    "noise_mat = np.transpose(np.random.multivariate_normal(mean, cov, size=T))\n",
    "z_t_mat = np.matmul(H, x_t_mat) + noise_mat\n",
    "z_t_mat.shape"
   ]
  },
  {
   "cell_type": "code",
   "execution_count": null,
   "id": "898d124b",
   "metadata": {},
   "outputs": [],
   "source": []
  }
 ],
 "metadata": {
  "kernelspec": {
   "display_name": "Python 3 (ipykernel)",
   "language": "python",
   "name": "python3"
  },
  "language_info": {
   "codemirror_mode": {
    "name": "ipython",
    "version": 3
   },
   "file_extension": ".py",
   "mimetype": "text/x-python",
   "name": "python",
   "nbconvert_exporter": "python",
   "pygments_lexer": "ipython3",
   "version": "3.10.4"
  }
 },
 "nbformat": 4,
 "nbformat_minor": 5
}
