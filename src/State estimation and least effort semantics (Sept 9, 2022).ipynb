{
 "cells": [
  {
   "cell_type": "code",
   "execution_count": 29,
   "id": "e35c98c9",
   "metadata": {},
   "outputs": [],
   "source": [
    "# P_from_node_i_to_node_j\n",
    "# Pij = (1/bij)*(x[i]-x[j])\n",
    "# H[line_id,i] = 1/bij\n",
    "# H[line_id,j] = -1/bij\n",
    "A_real = np.real(net._ppc['internal']['Bbus'].A)\n",
    "H = np.zeros((net.line.shape[0]+net.trafo.shape[0], net.bus.shape[0]))\n",
    "for i in range(0, net.line.shape[0]):\n",
    "    H[i, net.line.from_bus.values[i]] = 1/A_real[net.line.from_bus.values[i],net.line.to_bus.values[i]]\n",
    "    H[i, net.line.to_bus.values[i]] = -1/A_real[net.line.from_bus.values[i],net.line.to_bus.values[i]]\n",
    "\n",
    "for i in range(net.line.shape[0]+1, net.line.shape[0]+net.trafo.shape[0]):\n",
    "    H[i, net.trafo.hv_bus.values[i-net.line.shape[0]]] = 1/A_real[net.trafo.hv_bus.values[i-net.line.shape[0]],net.trafo.lv_bus.values[i-net.line.shape[0]]]\n",
    "    H[i, net.trafo.lv_bus.values[i-net.line.shape[0]]] = -1/A_real[net.trafo.hv_bus.values[i-net.line.shape[0]],net.trafo.lv_bus.values[i-net.line.shape[0]]]    "
   ]
  },
  {
   "cell_type": "code",
   "execution_count": 132,
   "id": "d9f26a13",
   "metadata": {},
   "outputs": [],
   "source": [
    "# method: state estimation\n",
    "# estimate x given z, where x is not (#nodes,1), but (#nodes-1,1)\n",
    "# x = [theta_0, theta_1, theta_2, ...,]\n",
    "# theta_0 = -10\n",
    "# theta_1 = 0 deg\n",
    "# input params: H, z, cov\n",
    "\n",
    "H_est = np.copy(H[:,1:])\n",
    "# z_t_mat[:,0] is z from params\n",
    "x_est = np.matmul(np.matmul(np.linalg.inv(np.matmul(np.transpose(H_est),H_est)),np.transpose(H_est)),z_t_mat[:,0])\n",
    "x_est = np.hstack((0, x_est))\n",
    "\n",
    "# r = z - H*x for a single point in time\n",
    "residuals = z_t_mat[:,0] - np.matmul(H, x_est)\n",
    "normalized_residuals = residuals/np.sqrt(cov[0,0])\n",
    "\n",
    "# return x_est, normalized_residuals for a single point in time"
   ]
  },
  {
   "cell_type": "code",
   "execution_count": 152,
   "id": "fcae8c68",
   "metadata": {},
   "outputs": [
    {
     "name": "stdout",
     "output_type": "stream",
     "text": [
      "Gurobi Optimizer version 9.5.2 build v9.5.2rc0 (win64)\n",
      "Thread count: 2 physical cores, 4 logical processors, using up to 4 threads\n",
      "Optimize a model with 109 rows, 74 columns and 187 nonzeros\n",
      "Model fingerprint: 0xcbce9674\n",
      "Coefficient statistics:\n",
      "  Matrix range     [4e-02, 1e+00]\n",
      "  Objective range  [1e+00, 1e+00]\n",
      "  Bounds range     [0e+00, 0e+00]\n",
      "  RHS range        [1e-01, 1e+02]\n",
      "Presolve removed 100 rows and 57 columns\n",
      "Presolve time: 0.01s\n",
      "Presolved: 9 rows, 17 columns, 41 nonzeros\n",
      "\n",
      "Iteration    Objective       Primal Inf.    Dual Inf.      Time\n",
      "       0    1.0000000e-01   4.105379e-02   0.000000e+00      0s\n",
      "       6    4.2803658e-01   0.000000e+00   0.000000e+00      0s\n",
      "\n",
      "Solved in 6 iterations and 0.03 seconds (0.00 work units)\n",
      "Optimal objective  4.280365769e-01\n"
     ]
    }
   ],
   "source": [
    "# least effort based on norm-1\n",
    "# min norm-1(a) with respect to a and c, where a is in z+a and c is in x+c\n",
    "# subject to:\n",
    "# a = H*c\n",
    "# a[k] = 0.1 where this is the initial desire of the adversary i.e. add 0.1 to the k-th measurement\n",
    "# all entries of a and c should be within some limits\n",
    "# -0.1 <= a[i] <= 0.1 for all i going from 0 to #meas-1\n",
    "# -0.1 <= c[i] <= 0.1 for all i going from 0 to #nodes-1\n",
    "\n",
    "# input params: H, z, k as integer between 0 and H.shape[0]-1, delta_a, a_lower_bound, a_upper_bound, \n",
    "# c_lower_bound, c_upper_bound\n",
    "\n",
    "from gurobipy import *\n",
    "\n",
    "delta_a = 0.1\n",
    "k = 4\n",
    "a_lower_bound, a_upper_bound, c_lower_bound, c_upper_bound = -100, 100, -100, 100\n",
    "\n",
    "m = Model('least effort with norm 1')\n",
    "\n",
    "# define decision variables: a and c vectors\n",
    "\n",
    "a  = [m.addVar(name='a%d' % i) for i in range(H.shape[0])]\n",
    "c  = [m.addVar(name='c%d' % i) for i in range(H.shape[1])]\n",
    "a_positive = [m.addVar(lb=0.0,name='a_pos%d' % i) for i in range(H.shape[0])]\n",
    "a_negative = [m.addVar(ub=0.0,name='a_neg%d' % i) for i in range(H.shape[0])]\n",
    "\n",
    "m.update()\n",
    "\n",
    "# constraint: a[i] = a_positive[i] - a_negative[i]\n",
    "# not a constraint: |a[i]| = a_positive[i] + a_negative[i]\n",
    "for i in range(0,H.shape[0]):\n",
    "    m.addConstr(a[i] == a_positive[i] + a_negative[i])\n",
    "\n",
    "# 1st constraint: a[k] = delta_a\n",
    "m.addConstr(a[k] == delta_a)\n",
    "\n",
    "# secure sensor\n",
    "# m.addConstr(a[1] == 0)\n",
    "\n",
    "# 2nd constraint: a = H*c\n",
    "for i in range(0,H.shape[0]):\n",
    "    m.addConstr(a[i] == np.matmul(H,c)[i])\n",
    "\n",
    "# 3rd constraint: ... <= a[i] <= ...\n",
    "for i in range(0,H.shape[0]):\n",
    "    m.addConstr(a[i] <= a_upper_bound)\n",
    "    m.addConstr(a[i] >= a_lower_bound)\n",
    "    \n",
    "# 4th constraint: ... <= c[i] <= ...    \n",
    "for i in range(0,H.shape[1]):\n",
    "    m.addConstr(c[i] <= c_upper_bound)\n",
    "    m.addConstr(c[i] >= c_lower_bound)\n",
    "\n",
    "#m.setObjective(np.linalg.norm(a,ord=1), GRB.MINIMIZE)\n",
    "# |a[i]| = a_positive[i] - a_negative[i]\n",
    "m.setObjective(sum(z[0]-z[1] for z in zip(a_positive, a_negative)), GRB.MINIMIZE)\n",
    "\n",
    "m.update()\n",
    "\n",
    "m.optimize()\n",
    "\n",
    "#least_effort_a_norm_1 = m.getVars()[0:H.shape[0]]\n",
    "least_effort_a_norm_1 = [v.x for v in m.getVars()[:H.shape[0]]]\n",
    "# a for a single point in time\n",
    "least_effort_a_norm_1 = np.asarray(least_effort_a_norm_1)\n",
    "\n",
    "# where z_t_mat[:,0] see z\n",
    "z_perturbed = z_t_mat[:,0] + least_effort_a_norm_1\n",
    "\n",
    "# returns least_effort_a_norm_1, z_perturbed for a single point in time"
   ]
  },
  {
   "cell_type": "code",
   "execution_count": 153,
   "id": "e019243b",
   "metadata": {},
   "outputs": [
    {
     "data": {
      "text/plain": [
       "array([0.        , 0.12827237, 0.        , 0.10140327, 0.1       ,\n",
       "       0.09836094, 0.        , 0.        , 0.        , 0.        ,\n",
       "       0.        , 0.        , 0.        , 0.        , 0.        ,\n",
       "       0.        , 0.        , 0.        , 0.        , 0.        ])"
      ]
     },
     "execution_count": 153,
     "metadata": {},
     "output_type": "execute_result"
    }
   ],
   "source": [
    "least_effort_a_norm_1"
   ]
  },
  {
   "cell_type": "code",
   "execution_count": 133,
   "id": "1e393f0f",
   "metadata": {},
   "outputs": [],
   "source": [
    "# z_t_mat (#meas, T)\n",
    "# z_perturbed_t_mat = np.zeros((H.shape[0],-1)) \n",
    "# for i range(0,T):\n",
    "# if i >= t1 and i <= t2\n",
    "# call method that computes a which returns z_perturbed\n",
    "# z_perturbed_t_mat = np.hstack((z_perturbed_t_mat, z_perturbed))\n",
    "# outside the for loop\n",
    "# z_perturbed_t_mat = np.delete(z_perturbed_t_mat, 0, 1)"
   ]
  },
  {
   "cell_type": "code",
   "execution_count": 160,
   "id": "11a04755",
   "metadata": {},
   "outputs": [
    {
     "name": "stdout",
     "output_type": "stream",
     "text": [
      "Gurobi Optimizer version 9.5.2 build v9.5.2rc0 (win64)\n",
      "Thread count: 2 physical cores, 4 logical processors, using up to 4 threads\n",
      "Optimize a model with 129 rows, 54 columns and 207 nonzeros\n",
      "Model fingerprint: 0x8e803430\n",
      "Variable types: 34 continuous, 20 integer (20 binary)\n",
      "Coefficient statistics:\n",
      "  Matrix range     [4e-02, 1e+04]\n",
      "  Objective range  [1e+00, 1e+00]\n",
      "  Bounds range     [1e+00, 1e+00]\n",
      "  RHS range        [1e-01, 1e+02]\n",
      "Found heuristic solution: objective 5.0000000\n",
      "Presolve removed 107 rows and 23 columns\n",
      "Presolve time: 0.00s\n",
      "Presolved: 22 rows, 31 columns, 60 nonzeros\n",
      "Variable types: 17 continuous, 14 integer (14 binary)\n",
      "\n",
      "Root relaxation: objective 3.005751e+00, 10 iterations, 0.00 seconds (0.00 work units)\n",
      "\n",
      "    Nodes    |    Current Node    |     Objective Bounds      |     Work\n",
      " Expl Unexpl |  Obj  Depth IntInf | Incumbent    BestBd   Gap | It/Node Time\n",
      "\n",
      "     0     0    3.00575    0    1    5.00000    3.00575  39.9%     -    0s\n",
      "H    0     0                       4.0000000    3.00575  24.9%     -    0s\n",
      "     0     0    3.00575    0    1    4.00000    3.00575  24.9%     -    0s\n",
      "\n",
      "Explored 1 nodes (10 simplex iterations) in 0.05 seconds (0.00 work units)\n",
      "Thread count was 4 (of 4 available processors)\n",
      "\n",
      "Solution count 2: 4 5 \n",
      "\n",
      "Optimal solution found (tolerance 1.00e-04)\n",
      "Best objective 4.000000000000e+00, best bound 4.000000000000e+00, gap 0.0000%\n"
     ]
    }
   ],
   "source": [
    "# least effort based on big-M, where M is a hyper-parameter\n",
    "# min sum(y) with respect to a, c, and y, where a is in z+a and c is in x+c\n",
    "# subject to:\n",
    "# a = H*c\n",
    "# a[k] = 0.1 where this is the initial desire of the adversary i.e. add 0.1 to the k-th measurement\n",
    "# all entries of a and c should be within some limits\n",
    "# -0.1 <= a[i] <= 0.1 for all i going from 0 to #meas-1\n",
    "# -0.1 <= c[i] <= 0.1 for all i going from 0 to #nodes-1\n",
    "# y[i] where i going from 0 to #meas-1 and y[i] is integer\n",
    "# -y[i]*M <= a[i] <= y[i]*M\n",
    "# if y[i] = 0, then 0 <= a[i] <= 0\n",
    "# if y[i] = 1, then -M <= a[i] <= M\n",
    "\n",
    "# input params: H, z, M, k as integer between 0 and H.shape[0]-1, delta_a, a_lower_bound, a_upper_bound, \n",
    "# c_lower_bound, c_upper_bound\n",
    "\n",
    "from gurobipy import *\n",
    "\n",
    "delta_a = 0.1\n",
    "k = 4\n",
    "a_lower_bound, a_upper_bound, c_lower_bound, c_upper_bound = -100, 100, -100, 100\n",
    "\n",
    "M = 10**4\n",
    "\n",
    "m = Model('least effort with big-M')\n",
    "\n",
    "# define decision variables: a and c vectors\n",
    "\n",
    "a = [m.addVar(name='a%d' % i) for i in range(H.shape[0])]\n",
    "c = [m.addVar(name='c%d' % i) for i in range(H.shape[1])]\n",
    "y = [m.addVar(vtype=gurobipy.GRB.BINARY, name='y%d' % i) for i in range(H.shape[0])]\n",
    "\n",
    "m.update()\n",
    "\n",
    "# -y[i]*M <= a[i] <= y[i]*M\n",
    "for i in range(0,H.shape[0]):\n",
    "    m.addConstr(a[i] <= y[i]*M)\n",
    "    m.addConstr(a[i] >= -y[i]*M)\n",
    "\n",
    "# 1st constraint: a[k] = delta_a\n",
    "m.addConstr(a[k] == delta_a)\n",
    "\n",
    "# secure sensor\n",
    "# m.addConstr(a[1] == 0)\n",
    "\n",
    "# 2nd constraint: a = H*c\n",
    "for i in range(0,H.shape[0]):\n",
    "    m.addConstr(a[i] == np.matmul(H,c)[i])\n",
    "\n",
    "# 3rd constraint: ... <= a[i] <= ...\n",
    "for i in range(0,H.shape[0]):\n",
    "    m.addConstr(a[i] <= a_upper_bound)\n",
    "    m.addConstr(a[i] >= a_lower_bound)\n",
    "    \n",
    "# 4th constraint: ... <= c[i] <= ...    \n",
    "for i in range(0,H.shape[1]):\n",
    "    m.addConstr(c[i] <= c_upper_bound)\n",
    "    m.addConstr(c[i] >= c_lower_bound)\n",
    "\n",
    "#m.setObjective(np.linalg.norm(a,ord=1), GRB.MINIMIZE)\n",
    "# |a[i]| = a_positive[i] - a_negative[i]\n",
    "m.setObjective(sum(y), GRB.MINIMIZE)\n",
    "\n",
    "m.update()\n",
    "\n",
    "m.optimize()\n",
    "\n",
    "least_effort_a_big_M = [v.x for v in m.getVars()[:H.shape[0]]]\n",
    "# a for a single point in time\n",
    "least_effort_a_big_M = np.asarray(least_effort_a_big_M)\n",
    "\n",
    "# where z_t_mat[:,0] see z\n",
    "z_perturbed = z_t_mat[:,0] + least_effort_a_big_M\n",
    "\n",
    "# returns least_effort_a_norm_1, z_perturbed for a single point in time"
   ]
  },
  {
   "cell_type": "code",
   "execution_count": 161,
   "id": "1c8959de",
   "metadata": {},
   "outputs": [
    {
     "data": {
      "text/plain": [
       "array([0.        , 0.12827237, 0.        , 0.        , 0.1       ,\n",
       "       0.        , 0.02421785, 0.        , 0.        , 0.        ,\n",
       "       0.        , 0.        , 0.        , 0.        , 0.        ,\n",
       "       0.        , 0.30994848, 0.        , 0.        , 0.        ])"
      ]
     },
     "execution_count": 161,
     "metadata": {},
     "output_type": "execute_result"
    }
   ],
   "source": [
    "least_effort_a_big_M"
   ]
  },
  {
   "cell_type": "code",
   "execution_count": 162,
   "id": "6a8ceee1",
   "metadata": {},
   "outputs": [
    {
     "data": {
      "text/plain": [
       "array([0.        , 0.12827237, 0.        , 0.10140327, 0.1       ,\n",
       "       0.09836094, 0.        , 0.        , 0.        , 0.        ,\n",
       "       0.        , 0.        , 0.        , 0.        , 0.        ,\n",
       "       0.        , 0.        , 0.        , 0.        , 0.        ])"
      ]
     },
     "execution_count": 162,
     "metadata": {},
     "output_type": "execute_result"
    }
   ],
   "source": [
    "least_effort_a_norm_1"
   ]
  },
  {
   "cell_type": "code",
   "execution_count": null,
   "id": "8421a05f",
   "metadata": {},
   "outputs": [],
   "source": []
  }
 ],
 "metadata": {
  "kernelspec": {
   "display_name": "Python 3",
   "language": "python",
   "name": "python3"
  },
  "language_info": {
   "codemirror_mode": {
    "name": "ipython",
    "version": 3
   },
   "file_extension": ".py",
   "mimetype": "text/x-python",
   "name": "python",
   "nbconvert_exporter": "python",
   "pygments_lexer": "ipython3",
   "version": "3.8.8"
  }
 },
 "nbformat": 4,
 "nbformat_minor": 5
}
