{
 "cells": [
  {
   "cell_type": "code",
   "execution_count": 1,
   "id": "c6702c48",
   "metadata": {},
   "outputs": [],
   "source": [
    "import pandapower as pp\n",
    "import pandapower.networks\n",
    "import numpy as np\n",
    "import pandas as pd"
   ]
  },
  {
   "cell_type": "code",
   "execution_count": 2,
   "id": "2c8d0ea2",
   "metadata": {},
   "outputs": [],
   "source": [
    "#if network == 'IEEE-14' then\n",
    "net = pp.networks.case14()\n",
    "#else if network == 'IEEE-30' then\n",
    "#net = pandapower.networks.case30()\n",
    "#else if network == 'IEEE-57' then\n",
    "#net = pandapower.networks.case57()\n",
    "#else if network == 'IEEE-118' then\n",
    "#net = pandapower.networks.case118()"
   ]
  },
  {
   "cell_type": "code",
   "execution_count": 15,
   "id": "4ae82e68",
   "metadata": {},
   "outputs": [
    {
     "name": "stderr",
     "output_type": "stream",
     "text": [
      "numba cannot be imported and numba functions are disabled.\n",
      "Probably the execution is slow.\n",
      "Please install numba to gain a massive speedup.\n",
      "(or if you prefer slow execution, set the flag numba=False to avoid this warning!)\n",
      "\n"
     ]
    }
   ],
   "source": [
    "# if user selects data generation strategy 1\n",
    "pp.runpp(net)\n",
    "# state vector x_base (which is again (number of nodes, ) but a complex vector)\n",
    "x_base = net.res_bus.vm_pu.to_numpy()*np.exp(1j*net.res_bus.va_degree.to_numpy()/180*np.pi)\n",
    "# number of discrete time steps\n",
    "T = 100 # user argument\n",
    "# Dx ~ N(0,Cov_Mat)\n",
    "mean = np.zeros(x_base.shape)\n",
    "cov = np.eye(x_base.shape[0])/1000 # to be refined in the future\n",
    "delta_x_mat = np.transpose(np.random.multivariate_normal(mean, cov**2, size=T))\n",
    "x_base_mat = np.repeat(x_base.reshape((x_base.shape[0],-1)), T, axis=1)\n",
    "x_t_mat = x_base_mat + delta_x_mat"
   ]
  },
  {
   "cell_type": "code",
   "execution_count": 14,
   "id": "59a8fc93",
   "metadata": {},
   "outputs": [
    {
     "name": "stderr",
     "output_type": "stream",
     "text": [
      "C:\\Users\\pvedi\\AppData\\Local\\Temp\\ipykernel_17048\\2541989653.py:4: ComplexWarning: Casting complex values to real discards the imaginary part\n",
      "  Sf.append(x_t_mat[net._ppc['branch'][i, 0].astype(int)]*np.conj(net._ppc['internal']['Yf'][i,:]*x_t_mat))\n"
     ]
    }
   ],
   "source": [
    "# Sf = V[ branch[br, F_BUS].astype(int) ] * conj(Yf[br, :] * V)\n",
    "Sf = []\n",
    "for i in range(0,net._ppc['branch'].shape[0]): # to be refined\n",
    "    Sf.append(x_t_mat[net._ppc['branch'][i, 0].astype(int)]*np.conj(net._ppc['internal']['Yf'][i,:]*x_t_mat))\n",
    "    #St.append(x_base[net._ppc['branch'][i, 1].astype(int)]*np.conj(net._ppc['internal']['Yt'][i,:]*x_base))\n",
    "Sf = np.asarray(Sf).reshape((net._ppc['branch'].shape[0],-1))\n",
    "z_P = np.real(Sf)\n",
    "z_Q = np.imag(Sf)\n",
    "z_V_mag = np.abs(x_t_mat[0,:])\n",
    "z_t_mat = np.vstack((z_P,z_Q))\n",
    "z_t_mat = np.vstack((z_t_mat,z_V_mag))\n",
    "# in the DC case, we had 20 measurements since z_P (20 x 1)\n",
    "# in the AC case, we have 20 from z_P, 20 from z_Q, and 1 from z_V_mag -> 41"
   ]
  },
  {
   "cell_type": "code",
   "execution_count": 7,
   "id": "09e3e016",
   "metadata": {},
   "outputs": [],
   "source": [
    "from pandapower.pypower.dSbr_dV import dSbr_dV\n",
    "import scipy as sc"
   ]
  },
  {
   "cell_type": "code",
   "execution_count": 8,
   "id": "3c34d7e3",
   "metadata": {},
   "outputs": [
    {
     "name": "stdout",
     "output_type": "stream",
     "text": [
      "1\n",
      "2\n",
      "3\n"
     ]
    },
    {
     "name": "stderr",
     "output_type": "stream",
     "text": [
      "C:\\Users\\pvedi\\AppData\\Local\\Temp\\ipykernel_17048\\362787764.py:25: ComplexWarning: Casting complex values to real discards the imaginary part\n",
      "  Sf_x_est.append(x_est[net._ppc['branch'][i, 0].astype(int)]*np.conj(net._ppc['internal']['Yf'][i,:]*x_est))\n"
     ]
    }
   ],
   "source": [
    "# AC State Estimator\n",
    "\n",
    "# in DC state estimator: x_est = inv(H.T @ H) @ H.T @ z\n",
    "\n",
    "# in DC case: x = [theta_0, theta_1, ...]\n",
    "# in AC case: x = [theta_0, theta_1, ..., theta_13, mag_0, mag_1, ..., mag_13]\n",
    "# we need theta_0 = 0\n",
    "\n",
    "# initial guess for state vector\n",
    "x_est = np.ones((len(net.bus)))\n",
    "# initially, all voltage magnitudes are assumed to be 1 and all voltage angles are assumed to 0\n",
    "\n",
    "residuals = 1\n",
    "\n",
    "# z = H*x + e -> z = h(x) + e\n",
    "\n",
    "count = 0\n",
    "while np.max(np.abs(residuals)) > 1e-2:\n",
    "\n",
    "    count += 1\n",
    "    print(count)\n",
    "    # h(x_est) for the current x_est (which is just x_hat), equivalent to H*x_hat\n",
    "    Sf_x_est = []\n",
    "    for i in range(0,net._ppc['branch'].shape[0]): # to be refined\n",
    "        Sf_x_est.append(x_est[net._ppc['branch'][i, 0].astype(int)]*np.conj(net._ppc['internal']['Yf'][i,:]*x_est))\n",
    "    Sf_x_est = np.asarray(Sf_x_est).reshape((net._ppc['branch'].shape[0],-1))    \n",
    "    P_x_est = np.real(Sf_x_est)\n",
    "    Q_x_est = np.imag(Sf_x_est)\n",
    "    V_x_est = x_est[0]\n",
    "    z_x_est = np.vstack((P_x_est,Q_x_est)).reshape(-1)\n",
    "    z_x_est = np.hstack((z_x_est,V_x_est))\n",
    "    \n",
    "    residuals = z_t_mat[:,0] - z_x_est\n",
    "    dSf_dVa, dSf_dVm, _, _, _, _ = dSbr_dV(net._ppc['branch'], net._ppc['internal']['Yf'], net._ppc['internal']['Yt'], x_est)\n",
    "    dV_dVa = 1j * np.diag(x_est)\n",
    "    dV_dVa = sc.sparse.csr_matrix(dV_dVa[0,:])\n",
    "    dV_dVm = np.diag(x_est/np.abs(x_est))\n",
    "    dV_dVm = sc.sparse.csr_matrix(dV_dVm[0,:])\n",
    "    \n",
    "    H_P = sc.sparse.hstack((np.real(dSf_dVa),np.real(dSf_dVm)))\n",
    "    H_Q = sc.sparse.hstack((np.imag(dSf_dVa),np.imag(dSf_dVm)))\n",
    "    H_V = sc.sparse.hstack((dV_dVa,dV_dVm))\n",
    "    H = sc.sparse.vstack((H_P, H_Q))\n",
    "    H = sc.sparse.vstack((H, H_V))\n",
    "    H = sc.sparse.csr_matrix(H)[:,1:]\n",
    "    \n",
    "    delta_x_est = sc.sparse.linalg.spsolve(np.transpose(H) @ H, np.transpose(H) @ residuals)\n",
    "    delta_x_est_a = delta_x_est[0:net._ppc['bus'].shape[0]-1]\n",
    "    delta_x_est_m = delta_x_est[net._ppc['bus'].shape[0]-1:]\n",
    "\n",
    "    x_est_a = np.angle(x_est[1:]) + delta_x_est_a\n",
    "    x_est_a = np.hstack((0,x_est_a))\n",
    "    x_est_m = np.abs(x_est) + delta_x_est_m\n",
    "    x_est = x_est_m*np.exp(1j*x_est_a)\n",
    "    \n",
    "# the AC estimator returns the final x_est, H, z_x_est"
   ]
  },
  {
   "cell_type": "code",
   "execution_count": 7,
   "id": "9ecfa41f",
   "metadata": {},
   "outputs": [],
   "source": [
    "# for installing idaes\n",
    "# https://ndcbe.github.io/CBE60499/01.00-Pyomo-Introduction.html#1.0.1.3-Install-IDAES-PSE\n",
    "# https://idaes-pse.readthedocs.io/en/latest/tutorials/getting_started/index.html"
   ]
  },
  {
   "cell_type": "code",
   "execution_count": 8,
   "id": "31890b0f",
   "metadata": {},
   "outputs": [
    {
     "name": "stderr",
     "output_type": "stream",
     "text": [
      "<ipython-input-8-4aa50a25da3c>:13: ComplexWarning: Casting complex values to real discards the imaginary part\n",
      "  bs_line = net._ppc['branch'][:,4].astype(float)/2\n",
      "<ipython-input-8-4aa50a25da3c>:19: ComplexWarning: Casting complex values to real discards the imaginary part\n",
      "  Pij.append(np.abs(x_t_mat[net._ppc['branch'][i, 0].astype(int)])**2 * g[i]/tap[i]**2\n",
      "<ipython-input-8-4aa50a25da3c>:20: ComplexWarning: Casting complex values to real discards the imaginary part\n",
      "  - np.abs(x_t_mat[net._ppc['branch'][i, 0].astype(int)])*np.abs(x_t_mat[net._ppc['branch'][i, 1].astype(int)])\n",
      "<ipython-input-8-4aa50a25da3c>:21: ComplexWarning: Casting complex values to real discards the imaginary part\n",
      "  *(g[i]*np.cos(np.angle(x_t_mat[net._ppc['branch'][i, 0].astype(int)])-np.angle(x_t_mat[net._ppc['branch'][i, 1].astype(int)]))\n",
      "<ipython-input-8-4aa50a25da3c>:22: ComplexWarning: Casting complex values to real discards the imaginary part\n",
      "  + b[i]*np.sin(np.angle(x_t_mat[net._ppc['branch'][i, 0].astype(int)])-np.angle(x_t_mat[net._ppc['branch'][i, 1].astype(int)])))/tap[i])\n",
      "<ipython-input-8-4aa50a25da3c>:24: ComplexWarning: Casting complex values to real discards the imaginary part\n",
      "  Qij.append(-np.abs(x_t_mat[net._ppc['branch'][i, 0].astype(int)])**2 * ((b[i] + bs_line[i])/tap[i]**2)\n",
      "<ipython-input-8-4aa50a25da3c>:25: ComplexWarning: Casting complex values to real discards the imaginary part\n",
      "  - np.abs(x_t_mat[net._ppc['branch'][i, 0].astype(int)])*np.abs(x_t_mat[net._ppc['branch'][i, 1].astype(int)])\n",
      "<ipython-input-8-4aa50a25da3c>:26: ComplexWarning: Casting complex values to real discards the imaginary part\n",
      "  *(g[i]*np.sin(np.angle(x_t_mat[net._ppc['branch'][i, 0].astype(int)])-np.angle(x_t_mat[net._ppc['branch'][i, 1].astype(int)]))\n",
      "<ipython-input-8-4aa50a25da3c>:27: ComplexWarning: Casting complex values to real discards the imaginary part\n",
      "  - b[i]*np.cos(np.angle(x_t_mat[net._ppc['branch'][i, 0].astype(int)])-np.angle(x_t_mat[net._ppc['branch'][i, 1].astype(int)])))/tap[i])\n"
     ]
    }
   ],
   "source": [
    "# def compute_h(x_est, net)\n",
    "# to be used in residual computation for anomaly detection where:\n",
    "# [z_i - h(x)_i]/cov_ii instead of [z_i - [H*x]_i]/cov_ii where x is the final estimate of the AC estimator\n",
    "\n",
    "Z = net._ppc['branch'][:,2] + 1j*net._ppc['branch'][:,3]\n",
    "C = 1/Z\n",
    "\n",
    "tap = np.real(net._ppc['branch'][:,8])\n",
    "\n",
    "g = np.real(C)\n",
    "b = np.imag(C)\n",
    "\n",
    "bs_line = net._ppc['branch'][:,4].astype(float)/2\n",
    "#bs_shunt = -net._ppc['bus'][:,5]/net._ppc['baseMVA']\n",
    "\n",
    "Pij = []\n",
    "Qij = []\n",
    "for i in range(0, net._ppc['branch'].shape[0]):\n",
    "    Pij.append(np.abs(x_t_mat[net._ppc['branch'][i, 0].astype(int)])**2 * g[i]/tap[i]**2 \n",
    "               - np.abs(x_t_mat[net._ppc['branch'][i, 0].astype(int)])*np.abs(x_t_mat[net._ppc['branch'][i, 1].astype(int)])\n",
    "               *(g[i]*np.cos(np.angle(x_t_mat[net._ppc['branch'][i, 0].astype(int)])-np.angle(x_t_mat[net._ppc['branch'][i, 1].astype(int)]))\n",
    "                 + b[i]*np.sin(np.angle(x_t_mat[net._ppc['branch'][i, 0].astype(int)])-np.angle(x_t_mat[net._ppc['branch'][i, 1].astype(int)])))/tap[i])\n",
    "\n",
    "    Qij.append(-np.abs(x_t_mat[net._ppc['branch'][i, 0].astype(int)])**2 * ((b[i] + bs_line[i])/tap[i]**2)\n",
    "               - np.abs(x_t_mat[net._ppc['branch'][i, 0].astype(int)])*np.abs(x_t_mat[net._ppc['branch'][i, 1].astype(int)])\n",
    "               *(g[i]*np.sin(np.angle(x_t_mat[net._ppc['branch'][i, 0].astype(int)])-np.angle(x_t_mat[net._ppc['branch'][i, 1].astype(int)]))\n",
    "                 - b[i]*np.cos(np.angle(x_t_mat[net._ppc['branch'][i, 0].astype(int)])-np.angle(x_t_mat[net._ppc['branch'][i, 1].astype(int)])))/tap[i])\n",
    "\n",
    "Pij = np.asarray(Pij).reshape((net._ppc['branch'].shape[0],-1))\n",
    "Qij = np.asarray(Qij).reshape((net._ppc['branch'].shape[0],-1))\n",
    "  \n",
    "V_x_est = np.abs(x_est[0])\n",
    "z_x_est = np.vstack((Pij,Qij)).reshape(-1)\n",
    "z_x_est = np.hstack((z_x_est,V_x_est))\n",
    "\n",
    "# returns z_x_est which is h(x_est)"
   ]
  },
  {
   "cell_type": "code",
   "execution_count": 9,
   "id": "b274e0ca",
   "metadata": {},
   "outputs": [
    {
     "name": "stderr",
     "output_type": "stream",
     "text": [
      "C:\\Users\\pvedi\\AppData\\Local\\Temp\\ipykernel_17048\\1043828893.py:46: ComplexWarning: Casting complex values to real discards the imaginary part\n",
      "  bs_line = net._ppc['branch'][:,4].astype(float)/2\n",
      "C:\\Users\\pvedi\\AppData\\Local\\Temp\\ipykernel_17048\\1043828893.py:51: ComplexWarning: Casting complex values to real discards the imaginary part\n",
      "  Pij.append(x_est_m[net._ppc['branch'][i, 0].astype(int)]**2 * g[i]/tap[i]**2\n",
      "C:\\Users\\pvedi\\AppData\\Local\\Temp\\ipykernel_17048\\1043828893.py:52: ComplexWarning: Casting complex values to real discards the imaginary part\n",
      "  - x_est_m[net._ppc['branch'][i, 0].astype(int)]*x_est_m[net._ppc['branch'][i, 1].astype(int)]\n",
      "C:\\Users\\pvedi\\AppData\\Local\\Temp\\ipykernel_17048\\1043828893.py:53: ComplexWarning: Casting complex values to real discards the imaginary part\n",
      "  *(g[i]*pyo.cos(x_est_a[net._ppc['branch'][i, 0].astype(int)]-x_est_a[net._ppc['branch'][i, 1].astype(int)])\n",
      "C:\\Users\\pvedi\\AppData\\Local\\Temp\\ipykernel_17048\\1043828893.py:54: ComplexWarning: Casting complex values to real discards the imaginary part\n",
      "  + b[i]*pyo.sin(x_est_a[net._ppc['branch'][i, 0].astype(int)]-x_est_a[net._ppc['branch'][i, 1].astype(int)]))/tap[i])\n",
      "C:\\Users\\pvedi\\AppData\\Local\\Temp\\ipykernel_17048\\1043828893.py:56: ComplexWarning: Casting complex values to real discards the imaginary part\n",
      "  Qij.append(-x_est_m[net._ppc['branch'][i, 0].astype(int)]**2 * ((b[i] + bs_line[i])/tap[i]**2)\n",
      "C:\\Users\\pvedi\\AppData\\Local\\Temp\\ipykernel_17048\\1043828893.py:57: ComplexWarning: Casting complex values to real discards the imaginary part\n",
      "  - x_est_m[net._ppc['branch'][i, 0].astype(int)]*x_est_m[net._ppc['branch'][i, 1].astype(int)]\n",
      "C:\\Users\\pvedi\\AppData\\Local\\Temp\\ipykernel_17048\\1043828893.py:58: ComplexWarning: Casting complex values to real discards the imaginary part\n",
      "  *(g[i]*pyo.sin(x_est_a[net._ppc['branch'][i, 0].astype(int)]-x_est_a[net._ppc['branch'][i, 1].astype(int)])\n",
      "C:\\Users\\pvedi\\AppData\\Local\\Temp\\ipykernel_17048\\1043828893.py:59: ComplexWarning: Casting complex values to real discards the imaginary part\n",
      "  - b[i]*pyo.cos(x_est_a[net._ppc['branch'][i, 0].astype(int)]-x_est_a[net._ppc['branch'][i, 1].astype(int)]))/tap[i])\n"
     ]
    },
    {
     "name": "stdout",
     "output_type": "stream",
     "text": [
      "Ipopt 3.13.2: \n",
      "\n",
      "******************************************************************************\n",
      "This program contains Ipopt, a library for large-scale nonlinear optimization.\n",
      " Ipopt is released as open source code under the Eclipse Public License (EPL).\n",
      "         For more information visit http://projects.coin-or.org/Ipopt\n",
      "\n",
      "This version of Ipopt was compiled from source code available at\n",
      "    https://github.com/IDAES/Ipopt as part of the Institute for the Design of\n",
      "    Advanced Energy Systems Process Systems Engineering Framework (IDAES PSE\n",
      "    Framework) Copyright (c) 2018-2019. See https://github.com/IDAES/idaes-pse.\n",
      "\n",
      "This version of Ipopt was compiled using HSL, a collection of Fortran codes\n",
      "    for large-scale scientific computation.  All technical papers, sales and\n",
      "    publicity material resulting from use of the HSL codes within IPOPT must\n",
      "    contain the following acknowledgement:\n",
      "        HSL, a collection of Fortran codes for large-scale scientific\n",
      "        computation. See http://www.hsl.rl.ac.uk.\n",
      "******************************************************************************\n",
      "\n",
      "This is Ipopt version 3.13.2, running with linear solver ma27.\n",
      "\n",
      "Number of nonzeros in equality constraint Jacobian...:      327\n",
      "Number of nonzeros in inequality constraint Jacobian.:      138\n",
      "Number of nonzeros in Lagrangian Hessian.............:      119\n",
      "\n",
      "Total number of variables............................:      151\n",
      "                     variables with only lower bounds:       41\n",
      "                variables with lower and upper bounds:        0\n",
      "                     variables with only upper bounds:       41\n",
      "Total number of equality constraints.................:       84\n",
      "Total number of inequality constraints...............:      138\n",
      "        inequality constraints with only lower bounds:       69\n",
      "   inequality constraints with lower and upper bounds:        0\n",
      "        inequality constraints with only upper bounds:       69\n",
      "\n",
      "iter    objective    inf_pr   inf_du lg(mu)  ||d||  lg(rg) alpha_du alpha_pr  ls\n",
      "   0  8.1999918e-01 1.00e-01 0.00e+00  -1.0 0.00e+00    -  0.00e+00 0.00e+00   0\n",
      "   1  8.1999984e+00 1.02e-03 4.01e+00  -1.0 1.40e-01    -  1.98e-01 1.00e+00f  1\n",
      "   2  8.3380145e+00 1.09e-05 2.41e-02  -1.0 1.86e-02    -  9.90e-01 1.00e+00h  1\n",
      "   3  8.3635693e+00 1.88e-05 3.69e-04  -1.0 6.39e-03    -  1.00e+00 1.00e+00h  1\n",
      "   4  1.7116991e+00 3.79e-06 4.34e-02  -2.5 9.81e-02    -  1.00e+00 8.48e-01f  1\n",
      "   5  7.3914047e-01 1.99e-05 2.95e-02  -2.5 2.04e-02    -  1.00e+00 9.51e-01f  1\n",
      "   6  6.9586775e-01 5.67e-05 6.94e-03  -2.5 2.48e-02    -  1.00e+00 1.00e+00f  1\n",
      "   7  5.2718578e-01 9.47e-06 3.94e-02  -3.8 7.12e-03    -  1.00e+00 8.38e-01f  1\n",
      "   8  4.9615700e-01 3.13e-05 4.30e-03  -3.8 3.15e-02    -  1.00e+00 9.90e-01f  1\n",
      "   9  4.9667942e-01 6.45e-08 1.05e-02  -3.8 7.00e-04    -  9.77e-01 1.00e+00f  1\n",
      "iter    objective    inf_pr   inf_du lg(mu)  ||d||  lg(rg) alpha_du alpha_pr  ls\n",
      "  10  4.9638196e-01 3.40e-08 4.25e-05  -3.8 2.38e-04    -  1.00e+00 1.00e+00h  1\n",
      "  11  4.8663842e-01 3.38e-06 2.03e-02  -5.7 1.29e-02    -  8.03e-01 9.07e-01f  1\n",
      "  12  4.8581302e-01 7.98e-07 4.44e-02  -5.7 3.62e-03    -  9.34e-01 8.24e-01f  1\n",
      "  13  4.8567199e-01 1.30e-08 1.74e-01  -5.7 7.47e-04    -  7.93e-01 1.00e+00f  1\n",
      "  14  4.8565893e-01 9.68e-11 6.44e-06  -5.7 2.23e-05    -  1.00e+00 1.00e+00h  1\n",
      "  15  4.8555181e-01 8.70e-10 6.92e-03  -8.6 2.26e-04    -  8.75e-01 8.47e-01f  1\n",
      "  16  4.8553662e-01 1.79e-10 5.92e-02  -8.6 3.51e-05    -  9.40e-01 8.16e-01f  1\n",
      "  17  4.8553449e-01 6.37e-11 1.96e-01  -8.6 6.47e-06    -  1.00e+00 6.47e-01f  1\n",
      "  18  4.8553344e-01 1.21e-13 4.70e-02  -8.6 2.28e-06    -  8.01e-01 1.00e+00f  1\n",
      "  19  4.8553342e-01 4.69e-15 7.48e-09  -8.6 2.16e-07    -  1.00e+00 1.00e+00h  1\n",
      "\n",
      "Number of Iterations....: 19\n",
      "\n",
      "                                   (scaled)                 (unscaled)\n",
      "Objective...............:   4.8553341544557738e-01    4.8553341544557738e-01\n",
      "Dual infeasibility......:   7.4801918575616804e-09    7.4801918575616804e-09\n",
      "Constraint violation....:   4.6906922790412864e-15    4.6906922790412864e-15\n",
      "Complementarity.........:   3.1152802816961620e-09    3.1152802816961620e-09\n",
      "Overall NLP error.......:   7.4801918575616804e-09    7.4801918575616804e-09\n",
      "\n",
      "\n",
      "Number of objective function evaluations             = 20\n",
      "Number of objective gradient evaluations             = 20\n",
      "Number of equality constraint evaluations            = 20\n",
      "Number of inequality constraint evaluations          = 20\n",
      "Number of equality constraint Jacobian evaluations   = 20\n",
      "Number of inequality constraint Jacobian evaluations = 20\n",
      "Number of Lagrangian Hessian evaluations             = 19\n",
      "Total CPU secs in IPOPT (w/o function evaluations)   =      0.056\n",
      "Total CPU secs in NLP function evaluations           =      0.000\n",
      "\n",
      "EXIT: Optimal Solution Found.\n",
      "\b\b\b\b\b\b\b\b\b\b\b\b\b\b"
     ]
    }
   ],
   "source": [
    "import pyomo.environ as pyo\n",
    "import idaes\n",
    "\n",
    "k = 1\n",
    "delta_a = 0.1 # in reality, a change by 0.1 is 0.1*100 MW = 10 MW\n",
    "a_lower_bound, a_upper_bound, c_lower_bound, c_upper_bound = -1000, 1000, -1000, 1000\n",
    "\n",
    "m = pyo.ConcreteModel()\n",
    "\n",
    "m.a_num = range(H.shape[0])\n",
    "m.c_num = range(H.shape[1]+1)\n",
    "m.a = pyo.Var(m.a_num, domain=pyo.Reals, initialize=0)\n",
    "m.c = pyo.Var(m.c_num, domain=pyo.Reals, initialize=0)\n",
    "m.a_pos = pyo.Var(m.a_num, domain=pyo.NonNegativeReals, initialize=0)\n",
    "m.a_neg = pyo.Var(m.a_num, domain=pyo.NonPositiveReals, initialize=0)\n",
    "\n",
    "m.abs_a = pyo.ConstraintList()\n",
    "for i in m.a_num:\n",
    "    m.abs_a.add(m.a[i] == m.a_pos[i]+m.a_neg[i]) \n",
    "    \n",
    "def compute_h_m(x_est, m, net):  \n",
    "    # x_est is the final estimate for a given point in time, x_hat[:,t]\n",
    "    #m.i_aux = pyo.Param(initialize=-1, mutable=True)\n",
    "    #m.i = pyo.Expression(expr = m.i_aux**0.5)    \n",
    "    x_est_a = np.asarray([np.angle(x_est[i]) + m.c[i] for i in range(0,net._ppc['bus'].shape[0])])\n",
    "    x_est_m = np.asarray([np.abs(x_est[i-net._ppc['bus'].shape[0]]) + m.c[i] for i in range(net._ppc['bus'].shape[0],2*net._ppc['bus'].shape[0])])\n",
    "    #x_est = x_est_m*np.exp(1j*x_est_a)\n",
    "    #x_est = x_est_m*pyo.exp(m.i*x_est_a)\n",
    "    #m.x_est = [x_est_m[i]*pyo.exp(m.i*x_est_a[i]) for i in range(0,net._ppc['bus'].shape[0])]\n",
    "    \n",
    "    #Sf_x_est = []\n",
    "    #for i in range(0,net._ppc['branch'].shape[0]): # to be refined\n",
    "    #    Sf_x_est.append(x_est[net._ppc['branch'][i, 0].astype(int)]*np.conj(net._ppc['internal']['Yf'][i,:]*x_est))\n",
    "    #Sf_x_est = np.asarray(Sf_x_est).reshape((net._ppc['branch'].shape[0],-1))    \n",
    "    #P_x_est = np.real(Sf_x_est)\n",
    "    #Q_x_est = np.imag(Sf_x_est)\n",
    "\n",
    "    Z = net._ppc['branch'][:,2] + 1j*net._ppc['branch'][:,3]\n",
    "    C = 1/Z\n",
    "\n",
    "    tap = np.real(net._ppc['branch'][:,8])\n",
    "\n",
    "    g = np.real(C)\n",
    "    b = np.imag(C)\n",
    "\n",
    "    bs_line = net._ppc['branch'][:,4].astype(float)/2\n",
    "\n",
    "    Pij = []\n",
    "    Qij = []\n",
    "    for i in range(0, net._ppc['branch'].shape[0]):\n",
    "        Pij.append(x_est_m[net._ppc['branch'][i, 0].astype(int)]**2 * g[i]/tap[i]**2 \n",
    "                   - x_est_m[net._ppc['branch'][i, 0].astype(int)]*x_est_m[net._ppc['branch'][i, 1].astype(int)]\n",
    "                   *(g[i]*pyo.cos(x_est_a[net._ppc['branch'][i, 0].astype(int)]-x_est_a[net._ppc['branch'][i, 1].astype(int)])\n",
    "                     + b[i]*pyo.sin(x_est_a[net._ppc['branch'][i, 0].astype(int)]-x_est_a[net._ppc['branch'][i, 1].astype(int)]))/tap[i])\n",
    "\n",
    "        Qij.append(-x_est_m[net._ppc['branch'][i, 0].astype(int)]**2 * ((b[i] + bs_line[i])/tap[i]**2)\n",
    "                   - x_est_m[net._ppc['branch'][i, 0].astype(int)]*x_est_m[net._ppc['branch'][i, 1].astype(int)]\n",
    "                   *(g[i]*pyo.sin(x_est_a[net._ppc['branch'][i, 0].astype(int)]-x_est_a[net._ppc['branch'][i, 1].astype(int)])\n",
    "                     - b[i]*pyo.cos(x_est_a[net._ppc['branch'][i, 0].astype(int)]-x_est_a[net._ppc['branch'][i, 1].astype(int)]))/tap[i])\n",
    "\n",
    "    Pij = np.asarray(Pij).reshape((net._ppc['branch'].shape[0],-1))\n",
    "    Qij = np.asarray(Qij).reshape((net._ppc['branch'].shape[0],-1))    \n",
    "    \n",
    "    V_x_est = x_est_m[0]\n",
    "    z_x_est = np.vstack((Pij,Qij)).reshape(-1)\n",
    "    z_x_est = np.hstack((z_x_est,V_x_est))\n",
    "    # z_x_est is h(x+c)\n",
    "    return z_x_est \n",
    "\n",
    "# a = h(x_hat+c) - h(x_hat) instead of a = Hc, where x_hat is the output of AC estimator\n",
    "\n",
    "m.stealthy_a = pyo.ConstraintList()\n",
    "for i in m.a_num:\n",
    "    # z_x_est is the h(x_hat) from the output of the AC estimator\n",
    "    # compute_h_m(x_est, m, net) is the h(x_hat + c), where c is a variable vector\n",
    "    m.stealthy_a.add(m.a[i] == compute_h_m(x_est, m, net)[i] - np.real(z_x_est[i]))\n",
    "\n",
    "m.change_a = pyo.Constraint(expr = (m.a[k] == delta_a))\n",
    "\n",
    "m.change_c = pyo.Constraint(expr = (m.c[0] == 0))\n",
    "    \n",
    "m.bounds_a = pyo.ConstraintList()\n",
    "for i in m.a_num:\n",
    "    m.bounds_a.add(m.a[i] <= a_upper_bound)\n",
    "    m.bounds_a.add(m.a[i] >= a_lower_bound)\n",
    "\n",
    "m.bounds_c = pyo.ConstraintList()\n",
    "for i in m.c_num:\n",
    "    m.bounds_c.add(m.c[i] <= c_upper_bound)\n",
    "    m.bounds_c.add(m.c[i] >= c_lower_bound)\n",
    "\n",
    "def abs_a_val(m):\n",
    "    return sum(m.a_pos[i] - m.a_neg[i] for i in m.a_num)\n",
    "    \n",
    "m.value = pyo.Objective(rule=abs_a_val, sense = pyo.minimize)    \n",
    "    \n",
    "#m.pprint()\n",
    "\n",
    "optimizer = pyo.SolverFactory('ipopt')\n",
    "#optimizer = pyo.SolverFactory('gurobi')\n",
    "status_opti = optimizer.solve(m, tee=True)\n",
    "\n",
    "a_output = np.asarray([pyo.value(m.a[i]) for i in m.a_num])\n",
    "c_output = np.asarray([pyo.value(m.c[i]) for i in m.c_num])"
   ]
  },
  {
   "cell_type": "code",
   "execution_count": 10,
   "id": "a65fa13a",
   "metadata": {},
   "outputs": [
    {
     "data": {
      "text/plain": [
       "{'Problem': [{'Lower bound': -inf, 'Upper bound': inf, 'Number of objectives': 1, 'Number of constraints': 222, 'Number of variables': 151, 'Sense': 'unknown'}], 'Solver': [{'Status': 'ok', 'Message': 'Ipopt 3.13.2\\\\x3a Optimal Solution Found', 'Termination condition': 'optimal', 'Id': 0, 'Error rc': 0, 'Time': 0.0783376693725586}], 'Solution': [OrderedDict([('number of solutions', 0), ('number of solutions displayed', 0)])]}"
      ]
     },
     "execution_count": 10,
     "metadata": {},
     "output_type": "execute_result"
    }
   ],
   "source": [
    "status_opti #['Solver']"
   ]
  },
  {
   "cell_type": "code",
   "execution_count": 10,
   "id": "a68b37b2",
   "metadata": {},
   "outputs": [
    {
     "data": {
      "text/plain": [
       "(41,)"
      ]
     },
     "execution_count": 10,
     "metadata": {},
     "output_type": "execute_result"
    }
   ],
   "source": [
    "z_x_est.shape"
   ]
  },
  {
   "cell_type": "code",
   "execution_count": 11,
   "id": "1da94c02",
   "metadata": {},
   "outputs": [
    {
     "data": {
      "text/plain": [
       "(41, 27)"
      ]
     },
     "execution_count": 11,
     "metadata": {},
     "output_type": "execute_result"
    }
   ],
   "source": [
    "H.shape"
   ]
  },
  {
   "cell_type": "code",
   "execution_count": 12,
   "id": "6bd8c12a",
   "metadata": {},
   "outputs": [
    {
     "data": {
      "text/plain": [
       "(14,)"
      ]
     },
     "execution_count": 12,
     "metadata": {},
     "output_type": "execute_result"
    }
   ],
   "source": [
    "x_est.shape"
   ]
  },
  {
   "cell_type": "code",
   "execution_count": null,
   "id": "7d63186f",
   "metadata": {},
   "outputs": [],
   "source": []
  }
 ],
 "metadata": {
  "kernelspec": {
   "display_name": "Python 3 (ipykernel)",
   "language": "python",
   "name": "python3"
  },
  "language_info": {
   "codemirror_mode": {
    "name": "ipython",
    "version": 3
   },
   "file_extension": ".py",
   "mimetype": "text/x-python",
   "name": "python",
   "nbconvert_exporter": "python",
   "pygments_lexer": "ipython3",
   "version": "3.10.7"
  }
 },
 "nbformat": 4,
 "nbformat_minor": 5
}
